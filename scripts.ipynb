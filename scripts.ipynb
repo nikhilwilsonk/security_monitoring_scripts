{
 "cells": [
  {
   "cell_type": "code",
   "execution_count": 8,
   "metadata": {},
   "outputs": [],
   "source": [
    "import nmap\n",
    "import ipaddress\n",
    "import re\n",
    "from typing import List, Dict, Any\n"
   ]
  },
  {
   "cell_type": "code",
   "execution_count": 11,
   "metadata": {},
   "outputs": [
    {
     "name": "stdout",
     "output_type": "stream",
     "text": [
      "[{'ip': '192.168.1.16', 'hostname': 'Unknown', 'status': 'up', 'open_ports': []}, {'ip': '192.168.1.17', 'hostname': 'Unknown', 'status': 'up', 'open_ports': []}, {'ip': '192.168.1.18', 'hostname': 'Unknown', 'status': 'up', 'open_ports': []}, {'ip': '192.168.1.19', 'hostname': 'Unknown', 'status': 'up', 'open_ports': []}, {'ip': '192.168.1.20', 'hostname': 'Unknown', 'status': 'up', 'open_ports': []}, {'ip': '192.168.1.21', 'hostname': 'Unknown', 'status': 'up', 'open_ports': []}, {'ip': '192.168.1.22', 'hostname': 'Unknown', 'status': 'up', 'open_ports': []}, {'ip': '192.168.1.23', 'hostname': 'Unknown', 'status': 'up', 'open_ports': []}, {'ip': '192.168.1.24', 'hostname': 'Unknown', 'status': 'up', 'open_ports': []}, {'ip': '192.168.1.25', 'hostname': 'Unknown', 'status': 'up', 'open_ports': []}, {'ip': '192.168.1.26', 'hostname': 'Unknown', 'status': 'up', 'open_ports': []}, {'ip': '192.168.1.27', 'hostname': 'Unknown', 'status': 'up', 'open_ports': []}, {'ip': '192.168.1.28', 'hostname': 'Unknown', 'status': 'up', 'open_ports': []}, {'ip': '192.168.1.29', 'hostname': 'Unknown', 'status': 'up', 'open_ports': []}, {'ip': '192.168.1.30', 'hostname': 'Unknown', 'status': 'up', 'open_ports': []}, {'ip': '192.168.1.31', 'hostname': 'Nikhils-Air', 'status': 'up', 'open_ports': []}]\n"
     ]
    }
   ],
   "source": [
    "scan_results = []\n",
    "target_network=\"192.168.1.31/28\"\n",
    "nm=nmap.PortScanner()\n",
    "try:\n",
    "    nm.scan(hosts=target_network, arguments='-sn -sV')\n",
    "    for host in nm.all_hosts():\n",
    "        host_info = {\n",
    "            'ip': host,\n",
    "            'hostname': nm[host].hostname() or 'Unknown',\n",
    "            'status': nm[host]['status']['state'],\n",
    "            'open_ports': []\n",
    "        }\n",
    "        for proto in nm[host].all_protocols():\n",
    "            ports = nm[host][proto].keys()\n",
    "            for port in ports:\n",
    "                port_details = {\n",
    "                    'port': port,\n",
    "                    'state': nm[host][proto][port]['state'],\n",
    "                    'service': nm[host][proto][port]['name']\n",
    "                }\n",
    "                host_info['open_ports'].append(port_details)\n",
    "        scan_results.append(host_info)\n",
    "    print(scan_results)\n",
    "except Exception as e:\n",
    "    print(e)"
   ]
  },
  {
   "cell_type": "code",
   "execution_count": null,
   "metadata": {},
   "outputs": [],
   "source": [
    "from sqlite3 import connect, Connection, Cursor\n",
    "db_path='security_monitor.db'\n",
    "with connect(db_path) as conn:\n",
    "    cursor = conn.cursor()\n",
    "    cursor.execute('''\n",
    "        CREATE TABLE IF NOT EXISTS network_scans (\n",
    "            id INTEGER PRIMARY KEY AUTOINCREMENT,\n",
    "            ip_address TEXT,\n",
    "            hostname TEXT,\n",
    "            open_ports TEXT,\n",
    "            scan_timestamp DATETIME DEFAULT CURRENT_TIMESTAMP\n",
    "        )\n",
    "    ''')\n",
    "    \n",
    "    cursor.execute('''\n",
    "        CREATE TABLE IF NOT EXISTS security_events (\n",
    "            id INTEGER PRIMARY KEY AUTOINCREMENT,\n",
    "            event_type TEXT,\n",
    "            severity TEXT,\n",
    "            details TEXT,\n",
    "            timestamp DATETIME DEFAULT CURRENT_TIMESTAMP\n",
    "        )\n",
    "    ''')\n",
    "    \n",
    "    conn.commit()"
   ]
  }
 ],
 "metadata": {
  "kernelspec": {
   "display_name": "security_automate",
   "language": "python",
   "name": "python3"
  },
  "language_info": {
   "codemirror_mode": {
    "name": "ipython",
    "version": 3
   },
   "file_extension": ".py",
   "mimetype": "text/x-python",
   "name": "python",
   "nbconvert_exporter": "python",
   "pygments_lexer": "ipython3",
   "version": "3.13.2"
  }
 },
 "nbformat": 4,
 "nbformat_minor": 2
}
